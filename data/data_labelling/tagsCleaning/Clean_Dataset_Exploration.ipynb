{
 "cells": [
  {
   "cell_type": "code",
   "execution_count": null,
   "metadata": {},
   "outputs": [],
   "source": [
    "\n",
    "\n",
    "import pandas as pd\n",
    "import matplotlib.pyplot as plt\n",
    "import numpy as np\n",
    "from wordcloud import WordCloud\n",
    "import re\n",
    "import nltk\n",
    "\n",
    "\n"
   ]
  },
  {
   "cell_type": "code",
   "execution_count": null,
   "metadata": {},
   "outputs": [],
   "source": [
    "\n",
    "\n",
    "df = pd.read_csv('../raw/id_tags_dict.tsv', sep='\\t')\n",
    "df = df.rename(columns={'id':'songID'})\n",
    "\n",
    "\n"
   ]
  },
  {
   "cell_type": "code",
   "execution_count": null,
   "metadata": {},
   "outputs": [],
   "source": [
    "\n",
    "\n",
    "df\n",
    "\n",
    "\n"
   ]
  },
  {
   "cell_type": "code",
   "execution_count": null,
   "metadata": {},
   "outputs": [],
   "source": [
    "\n",
    "\n",
    "df.head(30)\n",
    "\n",
    "\n"
   ]
  },
  {
   "cell_type": "code",
   "execution_count": null,
   "metadata": {},
   "outputs": [],
   "source": [
    "\n",
    "\n",
    "df = df[df['(tag, weight)'] != '{}']\n",
    "\n",
    "\n"
   ]
  },
  {
   "cell_type": "markdown",
   "metadata": {},
   "source": [
    "\n",
    "<h1 id=\"Explore-the-distributions-of-tags\">Explore the distributions of tags<a class=\"anchor-link\" href=\"#Explore-the-distributions-of-tags\">¶</a></h1><p>First, create a dictionary having a nested structure, as follows: <br/>\n",
    "{tag1: [{song: weight}, {song: weight}, ..., {song: weight}],<br/>\n",
    "tag2: [{song: weight}, {song: weight}, ..., {song: weight}],<br/>\n",
    "...,<br/>\n",
    "tagN: [{song: weight}, {song: weight}, ..., {song: weight}]}</p>\n"
   ]
  },
  {
   "cell_type": "code",
   "execution_count": null,
   "metadata": {},
   "outputs": [],
   "source": [
    "\n",
    "\n",
    "tag_songs_dict = dict()\n",
    "for idx, row in df.iterrows():\n",
    "    song = row['songID']\n",
    "    tag_str = row['(tag, weight)'].strip('{}').replace('\\'', '')\n",
    "    if tag_str != '':\n",
    "        clean_tag_list = tag_str.split(',')\n",
    "        for couple in clean_tag_list:\n",
    "            tag = couple.split(':')[0].strip()\n",
    "            score = int(couple.split(':')[1].strip())\n",
    "            if tag in tag_songs_dict.keys():\n",
    "                old_list = tag_songs_dict[tag]\n",
    "                old_list.append((song, score))\n",
    "                tag_songs_dict[tag] = old_list\n",
    "            else:\n",
    "                new_list = list()\n",
    "                new_list.append((song, score))\n",
    "                tag_songs_dict[tag] = new_list\n",
    "         \n",
    "\n",
    "\n"
   ]
  },
  {
   "cell_type": "code",
   "execution_count": null,
   "metadata": {},
   "outputs": [],
   "source": [
    "\n",
    "\n",
    "tag_songs_dict\n",
    "\n",
    "\n"
   ]
  },
  {
   "cell_type": "markdown",
   "metadata": {},
   "source": [
    "\n",
    "<h1 id=\"Mood-tagging:-WNAffect\">Mood tagging: WNAffect<a class=\"anchor-link\" href=\"#Mood-tagging:-WNAffect\">¶</a></h1><p>WNAffect paper: <a href=\"https://www.researchgate.net/profile/Tibor-Polya/publication/269110514_Linguistic_Structure_Narrative_Structure_and_Emotional_Intensity/links/633436f1ff870c55cee353b1/Linguistic-Structure-Narrative-Structure-and-Emotional-Intensity.pdf#page=24\">https://www.researchgate.net/profile/Tibor-Polya/publication/269110514_Linguistic_Structure_Narrative_Structure_and_Emotional_Intensity/links/633436f1ff870c55cee353b1/Linguistic-Structure-Narrative-Structure-and-Emotional-Intensity.pdf#page=24</a> <br/>\n",
    "As done in <a href=\"https://archives.ismir.net/ismir2009/paper/000095.pdf\">https://archives.ismir.net/ismir2009/paper/000095.pdf</a> <br/>\n",
    "WordNet-Affect: <a href=\"https://github.com/clemtoy/WNAffect/tree/master\">https://github.com/clemtoy/WNAffect/tree/master</a> <br/>\n",
    "Genre list: <a href=\"http://www.musicgenreslist.com\">http://www.musicgenreslist.com</a></p>\n"
   ]
  },
  {
   "cell_type": "code",
   "execution_count": null,
   "metadata": {},
   "outputs": [],
   "source": [
    "\n",
    "\n",
    "from WNAffect.wnaffect import WNAffect\n",
    "from WNAffect.emotion import Emotion\n",
    "wna = WNAffect('../../utils/wordnet-1.6', '../../utils/wordnet-domains-sentiwords/wn-domains')\n",
    "\n",
    "\n"
   ]
  },
  {
   "cell_type": "code",
   "execution_count": null,
   "metadata": {},
   "outputs": [],
   "source": [
    "\n",
    "\n",
    "def assign_mood_tag(tag, level = -1):\n",
    "    wordsList = nltk.word_tokenize(tag)\n",
    "    tagged = nltk.pos_tag(wordsList)\n",
    "    mood = list()\n",
    "    trigger_words = list()\n",
    "    for (w, pos) in tagged:\n",
    "        emo = wna.get_emotion(w, pos)\n",
    "        if emo is None:\n",
    "            pass\n",
    "        else:\n",
    "            if level == -1:\n",
    "                mood.append(emo)\n",
    "            else:\n",
    "                mood.append(emo.get_level(level))\n",
    "            trigger_words.append(w)\n",
    "    return mood, trigger_words\n",
    "\n",
    "\n"
   ]
  },
  {
   "cell_type": "markdown",
   "metadata": {},
   "source": [
    "\n",
    "<ul>\n",
    "<li>mood_songs_dict = dictionary containing the moods as keys and a list of songs assigned to it as values <br/></li>\n",
    "<li>all_moods = dictionary having the emotion name (str) as key and corresponding Emotion object as value <br/></li>\n",
    "<li>trigger_words = set containing the words of the tags that trigger the WNA to assign a mood</li>\n",
    "</ul>\n"
   ]
  },
  {
   "cell_type": "code",
   "execution_count": null,
   "metadata": {},
   "outputs": [],
   "source": [
    "\n",
    "\n",
    "mood_songs_dict = dict()\n",
    "all_moods = dict()\n",
    "trigger_words = set()\n",
    "for tag, songs_weights in tag_songs_dict.items():\n",
    "    moods, t_words = assign_mood_tag(tag, 5)\n",
    "    for mood, trigger in zip(moods, t_words):\n",
    "        trigger_words.add(trigger)\n",
    "        all_moods[mood.name] = mood\n",
    "        if mood.name not in mood_songs_dict.keys():\n",
    "            mood_songs_dict[mood.name] = songs_weights\n",
    "        else:\n",
    "            old_songs = mood_songs_dict[mood.name]\n",
    "            old_songs.extend(songs_weights)\n",
    "            mood_songs_dict[mood.name] = old_songs\n",
    "\n",
    "\n"
   ]
  },
  {
   "cell_type": "code",
   "execution_count": null,
   "metadata": {},
   "outputs": [],
   "source": [
    "\n",
    "\n",
    "all_moods.keys()\n",
    "\n",
    "\n"
   ]
  },
  {
   "cell_type": "code",
   "execution_count": null,
   "metadata": {},
   "outputs": [],
   "source": [
    "\n",
    "\n",
    "mood_songs_dict\n",
    "\n",
    "\n"
   ]
  },
  {
   "cell_type": "markdown",
   "metadata": {},
   "source": [
    "\n",
    "<h3 id=\"Mood-distribution\">Mood distribution<a class=\"anchor-link\" href=\"#Mood-distribution\">¶</a></h3>\n"
   ]
  },
  {
   "cell_type": "code",
   "execution_count": null,
   "metadata": {},
   "outputs": [],
   "source": [
    "\n",
    "\n",
    "graph_moods = list()\n",
    "graph_songs = list()\n",
    "for mood, songs in mood_songs_dict.items():\n",
    "    graph_moods.append(mood)\n",
    "    graph_songs.append(len(songs))\n",
    "    \n",
    "fig = plt.figure()\n",
    "plt.bar(graph_moods, graph_songs)\n",
    "_ = plt.xticks(rotation=90)\n",
    "\n",
    "\n"
   ]
  },
  {
   "cell_type": "markdown",
   "metadata": {},
   "source": [
    "\n",
    "<p>A LOT of love songs - possibly problematic: maybe the tags that WNA brought back to love don't imply that the song is about love, but that those who tagged the song loved it, as suggested by <a href=\"https://archives.ismir.net/ismir2009/paper/000095.pdf\">https://archives.ismir.net/ismir2009/paper/000095.pdf</a> <br/>\n",
    "Let's dive deeper and see which words used in the LastFM tags are linked to mood classification, since they could give some answers. \n",
    "In <a href=\"https://archives.ismir.net/ismir2009/paper/000095.pdf\">https://archives.ismir.net/ismir2009/paper/000095.pdf</a> they discarded both judgemental words (good, bad, ...), ambiguous words (love, loves, loved, like, likes, liked), and musical tags (upbeat, trance).</p>\n"
   ]
  },
  {
   "cell_type": "code",
   "execution_count": null,
   "metadata": {},
   "outputs": [],
   "source": [
    "\n",
    "\n",
    "with open('trigger_words.txt', 'w') as f:\n",
    "    for word in trigger_words:\n",
    "        f.write(f\"{word}\\n\")\n",
    "\n",
    "\n"
   ]
  },
  {
   "cell_type": "markdown",
   "metadata": {},
   "source": [
    "\n",
    "<p>! Trigger words cleaned in the file</p>\n"
   ]
  },
  {
   "cell_type": "code",
   "execution_count": null,
   "metadata": {},
   "outputs": [],
   "source": [
    "\n",
    "\n",
    "clean_triggers_file = open('trigger_words_clean.txt', 'r')\n",
    "clean_triggers = clean_triggers_file.readlines()\n",
    "clean_triggers = [trigger.strip() for trigger in clean_triggers]\n",
    "\n",
    "\n"
   ]
  },
  {
   "cell_type": "code",
   "execution_count": null,
   "metadata": {},
   "outputs": [],
   "source": [
    "\n",
    "\n",
    "len(clean_triggers)\n",
    "\n",
    "\n"
   ]
  },
  {
   "cell_type": "code",
   "execution_count": null,
   "metadata": {},
   "outputs": [],
   "source": [
    "\n",
    "\n",
    "def assign_mood_tag_clean(tag, clean_triggers, level = -1):\n",
    "    wordsList = nltk.word_tokenize(tag)\n",
    "    wordsList = [word for word in wordsList if word in clean_triggers]\n",
    "    tagged = nltk.pos_tag(wordsList)\n",
    "    moods = list()\n",
    "    for (w, pos) in tagged:\n",
    "        emo = wna.get_emotion(w, pos)\n",
    "        if emo is None:\n",
    "            pass\n",
    "        else:\n",
    "            if level == -1:\n",
    "                moods.append(emo)\n",
    "            else:\n",
    "                moods.append(emo.get_level(level))\n",
    "    return moods if len(moods) > 0 else None\n",
    "\n",
    "\n"
   ]
  },
  {
   "cell_type": "code",
   "execution_count": null,
   "metadata": {},
   "outputs": [],
   "source": [
    "\n",
    "\n",
    "mood_songs_dict = dict()\n",
    "all_moods = dict()\n",
    "trigger_words = set()\n",
    "for tag, songs_weights in tag_songs_dict.items():\n",
    "    moods = assign_mood_tag_clean(tag, clean_triggers, 5)\n",
    "    if moods is not None:\n",
    "        for mood in moods:\n",
    "            all_moods[mood.name] = mood\n",
    "            if mood.name not in mood_songs_dict.keys():\n",
    "                mood_songs_dict[mood.name] = songs_weights\n",
    "            else:\n",
    "                old_songs = mood_songs_dict[mood.name]\n",
    "                old_songs.extend(songs_weights)\n",
    "                mood_songs_dict[mood.name] = old_songs\n",
    "\n",
    "\n"
   ]
  },
  {
   "cell_type": "code",
   "execution_count": null,
   "metadata": {},
   "outputs": [],
   "source": [
    "\n",
    "\n",
    "all_moods.keys()\n",
    "\n",
    "\n"
   ]
  },
  {
   "cell_type": "code",
   "execution_count": null,
   "metadata": {},
   "outputs": [],
   "source": [
    "\n",
    "\n",
    "mood_songs_dict\n",
    "\n",
    "\n"
   ]
  },
  {
   "cell_type": "code",
   "execution_count": null,
   "metadata": {},
   "outputs": [],
   "source": [
    "\n",
    "\n",
    "graph_moods = list()\n",
    "graph_songs = list()\n",
    "for mood, songs in mood_songs_dict.items():\n",
    "    graph_moods.append(mood)\n",
    "    graph_songs.append(len(songs))\n",
    "    \n",
    "fig = plt.figure()\n",
    "plt.bar(graph_moods, graph_songs)\n",
    "_ = plt.xticks(rotation=90)\n",
    "\n",
    "\n"
   ]
  },
  {
   "cell_type": "markdown",
   "metadata": {},
   "source": [
    "\n",
    "<p>Now it's important to examinate how many tags each song has.</p>\n"
   ]
  },
  {
   "cell_type": "code",
   "execution_count": null,
   "metadata": {},
   "outputs": [],
   "source": [
    "\n",
    "\n",
    "labeled_songs_dict = dict()\n",
    "\n",
    "for mood in mood_songs_dict.keys():\n",
    "    song_list = mood_songs_dict[mood]\n",
    "    for song_weight in song_list:\n",
    "        tags = set()\n",
    "        song = song_weight[0]\n",
    "        weight = song_weight[1]\n",
    "        if song in labeled_songs_dict.keys():\n",
    "            tags = set(labeled_songs_dict[song])\n",
    "            tags.add((mood, weight))\n",
    "            labeled_songs_dict[song] = tags\n",
    "        else:\n",
    "            tags.add((mood, weight))\n",
    "            labeled_songs_dict[song] = tags\n",
    "\n",
    "\n"
   ]
  },
  {
   "cell_type": "code",
   "execution_count": null,
   "metadata": {},
   "outputs": [],
   "source": [
    "\n",
    "\n",
    "labeled_songs_dict\n",
    "\n",
    "\n"
   ]
  },
  {
   "cell_type": "code",
   "execution_count": null,
   "metadata": {},
   "outputs": [],
   "source": [
    "\n",
    "\n",
    "num_tags = list()\n",
    "for song in labeled_songs_dict.keys():\n",
    "    num_tags.append(len(labeled_songs_dict[song]))\n",
    "\n",
    "\n"
   ]
  },
  {
   "cell_type": "code",
   "execution_count": null,
   "metadata": {},
   "outputs": [],
   "source": [
    "\n",
    "\n",
    "set(num_tags)\n",
    "\n",
    "\n"
   ]
  },
  {
   "cell_type": "code",
   "execution_count": null,
   "metadata": {},
   "outputs": [],
   "source": [
    "\n",
    "\n",
    "plt.hist(num_tags, bins=15)\n",
    "plt.xlabel('# tags per song')\n",
    "plt.ylabel('# songs')\n",
    "\n",
    "plt.show()\n",
    "\n",
    "plt.show()\n",
    "\n",
    "\n"
   ]
  },
  {
   "cell_type": "markdown",
   "metadata": {},
   "source": [
    "\n",
    "<p>Some considerations:</p>\n",
    "<ul>\n",
    "<li>'thing'/'gravity' not an emotion --&gt; drop</li>\n",
    "<li>many labels, varying number of songs per label --&gt; clustering the emotions</li>\n",
    "</ul>\n"
   ]
  },
  {
   "cell_type": "code",
   "execution_count": null,
   "metadata": {},
   "outputs": [],
   "source": [
    "\n",
    "\n",
    "_ = mood_songs_dict.pop('gravity', None)\n",
    "_ = mood_songs_dict.pop('thing', None)\n",
    "\n",
    "\n"
   ]
  },
  {
   "cell_type": "markdown",
   "metadata": {},
   "source": [
    "\n",
    "<h2 id=\"Emotions-clusters\">Emotions clusters<a class=\"anchor-link\" href=\"#Emotions-clusters\">¶</a></h2><ul>\n",
    "<li>CL0: positive-fear, ambiguous-expectation, surprise, ambiguous-agitation, positive-expectation, ambiguous-fear</li>\n",
    "<li>CL1: affection, love, gratitude</li>\n",
    "<li>CL2: general-dislike, compassion, humility</li>\n",
    "<li>CL3: shame, anxiety, negative-fear, despair, daze</li>\n",
    "<li>CL4: fearlessness, joy, positive-hope, liking, self-pride, enthusiasm, levity</li>\n",
    "<li>CL5: sadness, pensiveness</li>\n",
    "<li>CL6: neutral-unconcern, apathy, calmness</li>\n",
    "</ul>\n"
   ]
  },
  {
   "cell_type": "code",
   "execution_count": null,
   "metadata": {},
   "outputs": [],
   "source": [
    "\n",
    "\n",
    "clusters = [['positive-fear', 'ambiguous-expectation', 'surprise', 'ambiguous-agitation', 'positive-expectation', 'ambiguous-fear'],\n",
    "           ['affection', 'love', 'gratitude'],\n",
    "           ['general-dislike', 'compassion', 'humility'],\n",
    "           ['shame', 'anxiety', 'negative-fear', 'despair', 'daze'],\n",
    "           ['fearlessness', 'joy', 'positive-hope', 'liking', 'self-pride', 'enthusiasm', 'levity'],\n",
    "           ['sadness', 'pensiveness'],\n",
    "           ['neutral-unconcern', 'apathy', 'calmness']]\n",
    "\n",
    "label_map = dict()\n",
    "\n",
    "for i in range(0, len(clusters)):\n",
    "    for emotion in clusters[i]:\n",
    "        label_map[emotion] = i\n",
    "        \n",
    "label_map\n",
    "\n",
    "\n"
   ]
  },
  {
   "cell_type": "code",
   "execution_count": null,
   "metadata": {},
   "outputs": [],
   "source": [
    "\n",
    "\n",
    "clustered_label_dict = dict()\n",
    "for label in mood_songs_dict.keys():\n",
    "    idx = label_map[label]\n",
    "    if idx in clustered_label_dict.keys():\n",
    "        songs = clustered_label_dict[idx]\n",
    "        songs.extend(mood_songs_dict[label])\n",
    "        clustered_label_dict[idx] = songs\n",
    "    else:\n",
    "        clustered_label_dict[idx] = mood_songs_dict[label]\n",
    "\n",
    "\n"
   ]
  },
  {
   "cell_type": "code",
   "execution_count": null,
   "metadata": {},
   "outputs": [],
   "source": [
    "\n",
    "\n",
    "clustered_label_dict\n",
    "\n",
    "\n"
   ]
  },
  {
   "cell_type": "markdown",
   "metadata": {},
   "source": [
    "\n",
    "<p>Let's analyze again the number of tags per song</p>\n"
   ]
  },
  {
   "cell_type": "code",
   "execution_count": null,
   "metadata": {},
   "outputs": [],
   "source": [
    "\n",
    "\n",
    "new_labeled_songs_dict = dict()\n",
    "\n",
    "for mood in clustered_label_dict.keys():\n",
    "    song_list = clustered_label_dict[mood]\n",
    "    for song_weight in song_list:\n",
    "        tags = list()\n",
    "        song = song_weight[0]\n",
    "        weight = song_weight[1]\n",
    "        if song in new_labeled_songs_dict.keys():\n",
    "            tags_weights = new_labeled_songs_dict[song]\n",
    "            tags_weights.append((mood, weight))\n",
    "            new_labeled_songs_dict[song] = tags_weights\n",
    "        else:\n",
    "            tags.append((mood, weight))\n",
    "            new_labeled_songs_dict[song] = tags\n",
    "            \n",
    "\n",
    "\n"
   ]
  },
  {
   "cell_type": "code",
   "execution_count": null,
   "metadata": {},
   "outputs": [],
   "source": [
    "\n",
    "\n",
    "new_labeled_songs_dict\n",
    "\n",
    "\n"
   ]
  },
  {
   "cell_type": "markdown",
   "metadata": {},
   "source": [
    "\n",
    "<p>We can see how in this process we need to be careful with multiple tags: <br/></p>\n",
    "<ul>\n",
    "<li>it is possible that each song was tagged with the same number-label multiple times (different emotions belonging to the same cluster)</li>\n",
    "<li>in order to fix this, when we create the new version of the labeled songs dictionary we check for other pre-existing tags of the same mood and keep the tag with the highest weight <br/></li>\n",
    "</ul>\n",
    "<p>The new version of the dictionary will be called unique_new_labeled_songs_dict to emphasize the unicity of tags per mood in each song</p>\n"
   ]
  },
  {
   "cell_type": "code",
   "execution_count": null,
   "metadata": {},
   "outputs": [],
   "source": [
    "\n",
    "\n",
    "unique_new_labeled_songs_dict = dict()\n",
    "\n",
    "for mood in clustered_label_dict.keys():\n",
    "    song_list = clustered_label_dict[mood]\n",
    "    for song_weight in song_list:\n",
    "        tags = list()\n",
    "        song = song_weight[0]\n",
    "        weight = song_weight[1]\n",
    "        if song in unique_new_labeled_songs_dict.keys():\n",
    "            tags_weights = unique_new_labeled_songs_dict[song]\n",
    "            first_mood = True\n",
    "            for (t, w) in tags_weights:\n",
    "                if mood == t:\n",
    "                    first_mood = False\n",
    "                    if weight > w:\n",
    "                        tags_weights.remove((mood, w))\n",
    "                        tags_weights.append((mood, weight))\n",
    "            if first_mood == True:\n",
    "                tags_weights.append((mood,weight))\n",
    "            unique_new_labeled_songs_dict[song] = tags_weights\n",
    "        else:\n",
    "            tags.append((mood, weight))\n",
    "            unique_new_labeled_songs_dict[song] = tags\n",
    "            \n",
    "\n",
    "\n"
   ]
  },
  {
   "cell_type": "code",
   "execution_count": null,
   "metadata": {},
   "outputs": [],
   "source": [
    "\n",
    "\n",
    "unique_new_labeled_songs_dict\n",
    "\n",
    "\n"
   ]
  },
  {
   "cell_type": "code",
   "execution_count": null,
   "metadata": {},
   "outputs": [],
   "source": [
    "\n",
    "\n",
    "new_num_tags = list()\n",
    "for song in unique_new_labeled_songs_dict.keys():\n",
    "    new_num_tags.append(len(unique_new_labeled_songs_dict[song]))\n",
    "\n",
    "set(new_num_tags)\n",
    "\n",
    "\n"
   ]
  },
  {
   "cell_type": "code",
   "execution_count": null,
   "metadata": {},
   "outputs": [],
   "source": [
    "\n",
    "\n",
    "plt.hist(new_num_tags, bins=7)\n",
    "plt.xlabel('# tags per song')\n",
    "plt.ylabel('# songs')\n",
    "\n",
    "plt.show()\n",
    "\n",
    "\n"
   ]
  },
  {
   "cell_type": "markdown",
   "metadata": {},
   "source": [
    "\n",
    "<h2 id=\"Two-different-versions-of-the-dataset\">Two different versions of the dataset<a class=\"anchor-link\" href=\"#Two-different-versions-of-the-dataset\">¶</a></h2><p>One with a single label (the one with the highest weight), one with all the labels</p>\n"
   ]
  },
  {
   "cell_type": "markdown",
   "metadata": {},
   "source": [
    "\n",
    "<h3 id=\"Monolabel\">Monolabel<a class=\"anchor-link\" href=\"#Monolabel\">¶</a></h3>\n"
   ]
  },
  {
   "cell_type": "code",
   "execution_count": null,
   "metadata": {},
   "outputs": [],
   "source": [
    "\n",
    "\n",
    "monolabel_df = pd.DataFrame(unique_new_labeled_songs_dict.keys(), columns = ['songID'])\n",
    "labels = list()\n",
    "for idx, row in monolabel_df.iterrows():\n",
    "    max_weight = 0\n",
    "    max_tag = None\n",
    "    song = row['songID']\n",
    "    tags = unique_new_labeled_songs_dict[song] \n",
    "    for tup in tags:\n",
    "        if tup[1] > max_weight:\n",
    "            max_tag = tup[0]\n",
    "    max_cnt = 0\n",
    "    tie_moods = list()\n",
    "    for tup in tags:\n",
    "        if tup[1] == max_weight:\n",
    "            tie_moods.append(tup[0])\n",
    "            max_cnt = max_cnt + 1\n",
    "    if max_cnt > 1:\n",
    "        full_tags = new_labeled_songs_dict[song]\n",
    "        avg_dict = dict()\n",
    "        for mood in tie_moods:\n",
    "            selected_tuples = [t for t in full_tags if t[0]==mood]\n",
    "            total = 0\n",
    "            for tup in selected_tuples:\n",
    "                total = total + tup[1]\n",
    "            avg_dict[mood] = (total/len(selected_tuples))\n",
    "        max_tag = max(avg_dict.iteritems(), key=operator.itemgetter(1))[0]\n",
    "        \n",
    "    labels.append(max_tag)\n",
    "\n",
    "print(labels)\n",
    "\n",
    "\n"
   ]
  },
  {
   "cell_type": "code",
   "execution_count": null,
   "metadata": {},
   "outputs": [],
   "source": [
    "\n",
    "\n",
    "plt.hist(labels, bins=range(0,8))\n",
    "plt.xlabel('Labels')\n",
    "plt.ylabel('# songs')\n",
    "\n",
    "plt.show()\n",
    "\n",
    "\n"
   ]
  },
  {
   "cell_type": "code",
   "execution_count": null,
   "metadata": {},
   "outputs": [],
   "source": [
    "\n",
    "\n",
    "from collections import Counter\n",
    "c = Counter(labels)\n",
    "\n",
    "print(c.items())\n",
    "\n",
    "\n"
   ]
  },
  {
   "cell_type": "code",
   "execution_count": null,
   "metadata": {},
   "outputs": [],
   "source": [
    "\n",
    "\n",
    "monolabel_df['Label'] = labels\n",
    "monolabel_df.head(30)\n",
    "\n",
    "\n"
   ]
  },
  {
   "cell_type": "markdown",
   "metadata": {},
   "source": [
    "\n",
    "<h4 id=\"Monolabel-one-hot-encoding\">Monolabel one-hot encoding<a class=\"anchor-link\" href=\"#Monolabel-one-hot-encoding\">¶</a></h4>\n"
   ]
  },
  {
   "cell_type": "code",
   "execution_count": null,
   "metadata": {},
   "outputs": [],
   "source": [
    "\n",
    "\n",
    "encoded_df = pd.DataFrame(unique_new_labeled_songs_dict.keys(), columns = ['songID'])\n",
    "for i in range(0, len(clusters)):\n",
    "    encoded_df[f'CL{i}'] = 0\n",
    "\n",
    "for idx, row in encoded_df.iterrows():\n",
    "    value = monolabel_df.loc[idx, 'Label']\n",
    "    label = f'CL{value}'\n",
    "    encoded_df.at[idx, label] = 1\n",
    "\n",
    "encoded_df\n",
    "\n",
    "\n"
   ]
  },
  {
   "cell_type": "markdown",
   "metadata": {},
   "source": [
    "\n",
    "<h3 id=\"Multilabel\">Multilabel<a class=\"anchor-link\" href=\"#Multilabel\">¶</a></h3><p>Encoding consideration: in order to be able to use the dataset, we need to decide how to encode multiple labels. The best way ( = for which the dataset is then ready to use) is to have as many label columns as labels, and use binary indicators to mark if a song has a certain tag)</p>\n"
   ]
  },
  {
   "cell_type": "code",
   "execution_count": null,
   "metadata": {},
   "outputs": [],
   "source": [
    "\n",
    "\n",
    "multilabel_df = pd.DataFrame(unique_new_labeled_songs_dict.keys(), columns = ['songID'])\n",
    "for i in range(0, len(clusters)):\n",
    "    multilabel_df[f'CL{i}'] = 0\n",
    "\n",
    "for idx, row in multilabel_df.iterrows():\n",
    "    song = row['songID']\n",
    "    tagps = unique_new_labeled_songs_dict[song]\n",
    "    for tup in tags:\n",
    "        label = f'CL{tup[0]}'\n",
    "        multilabel_df.at[idx, label] = 1\n",
    "\n",
    "multilabel_df\n",
    "\n",
    "\n"
   ]
  },
  {
   "cell_type": "code",
   "execution_count": null,
   "metadata": {},
   "outputs": [],
   "source": [
    "\n",
    "\n",
    "monolabel_df\n",
    "\n",
    "\n"
   ]
  },
  {
   "cell_type": "markdown",
   "metadata": {},
   "source": [
    "\n",
    "<h2 id=\"Save-datasets\">Save datasets<a class=\"anchor-link\" href=\"#Save-datasets\">¶</a></h2>\n"
   ]
  },
  {
   "cell_type": "code",
   "execution_count": null,
   "metadata": {},
   "outputs": [],
   "source": [
    "\n",
    "\n",
    "monolabel_df.to_csv('../final_datasets/monolabel_df_no_lyrics.csv')\n",
    "multilabel_df.to_csv('../final_datasets/multilabel_df_no_lyrics.csv')\n",
    "encoded_df.to_csv('../final_datasets/encoded_df_no_lyrics.csv')\n",
    "\n",
    "\n"
   ]
  },
  {
   "cell_type": "markdown",
   "metadata": {},
   "source": [
    "\n",
    "<h2 id=\"Add-lyrics\">Add lyrics<a class=\"anchor-link\" href=\"#Add-lyrics\">¶</a></h2>\n"
   ]
  },
  {
   "cell_type": "code",
   "execution_count": null,
   "metadata": {},
   "outputs": [],
   "source": [
    "\n",
    "\n",
    "mono_lyr_column = list()\n",
    "multi_lyr_column = list()\n",
    "enc_lyr_column = list()\n",
    "\n",
    "def clean_lyrics(lyrics, removable):\n",
    "    pattern = re.compile(r'\\b(' + r'|'.join(removable) + r')\\b\\s*')\n",
    "    clean = pattern.sub(' ', lyrics)\n",
    "    final = re.sub(r'\\s{2,}', ' ', clean).strip()\n",
    "    return final\n",
    "    \n",
    "\n",
    "for idx, row in monolabel_df.iterrows():\n",
    "    filename = f'../raw/processed_lyrics/{row[\"songID\"]}.txt'\n",
    "    file = open(filename, 'r')\n",
    "    lyr = file.read()\n",
    "    clean_lyr = clean_lyrics(lyr, ['oh', 'na', 'la', 'eh', 'ah', 'yeah'])\n",
    "    mono_lyr_column.append(clean_lyr)\n",
    "    \n",
    "for idx, row in encoded_df.iterrows():\n",
    "    filename = f'../raw/processed_lyrics/{row[\"songID\"]}.txt'\n",
    "    file = open(filename, 'r')\n",
    "    lyr = file.read()\n",
    "    clean_lyr = clean_lyrics(lyr, ['oh', 'na', 'la', 'eh', 'ah', 'yeah'])\n",
    "    enc_lyr_column.append(clean_lyr)\n",
    "    \n",
    "for idx, row in multilabel_df.iterrows():\n",
    "    filename = f'../raw/processed_lyrics/{row[\"songID\"]}.txt'\n",
    "    file = open(filename, 'r')\n",
    "    lyr = file.read()\n",
    "    clean_lyr = clean_lyrics(lyr, ['oh', 'na', 'la', 'eh', 'ah', 'yeah'])\n",
    "    multi_lyr_column.append(clean_lyr)\n",
    "\n",
    "\n"
   ]
  },
  {
   "cell_type": "code",
   "execution_count": null,
   "metadata": {},
   "outputs": [],
   "source": [
    "\n",
    "\n",
    "monolabel_lyrics_df = monolabel_df.copy()\n",
    "monolabel_lyrics_df['Lyrics'] = mono_lyr_column\n",
    "monolabel_lyrics_df = monolabel_lyrics_df[monolabel_lyrics_df['Lyrics'] != '']\n",
    "\n",
    "encoded_lyrics_df = encoded_df.copy()\n",
    "encoded_lyrics_df['Lyrics'] = enc_lyr_column\n",
    "encoded_lyrics_df = encoded_lyrics_df[encoded_lyrics_df['Lyrics'] != '']\n",
    "\n",
    "multilabel_lyrics_df = multilabel_df.copy()\n",
    "multilabel_lyrics_df['Lyrics'] = multi_lyr_column\n",
    "multilabel_lyrics_df = multilabel_lyrics_df[multilabel_lyrics_df['Lyrics'] != '']\n",
    "\n",
    "monolabel_lyrics_df.to_csv('../final_datasets/monolabel_df_lyrics.csv')\n",
    "encoded_lyrics_df.to_csv('../final_datasets/encoded_df_lyrics.csv')\n",
    "multilabel_lyrics_df.to_csv('../final_datasets/multilabel_df_lyrics.csv')\n",
    "\n",
    "\n"
   ]
  },
  {
   "cell_type": "code",
   "execution_count": null,
   "metadata": {},
   "outputs": [],
   "source": [
    "\n",
    "\n",
    "encoded_lyrics_df\n",
    "\n",
    "\n"
   ]
  },
  {
   "cell_type": "markdown",
   "metadata": {},
   "source": [
    "\n",
    "<h2 id=\"Other-attempts-for-clustering\">Other attempts for clustering<a class=\"anchor-link\" href=\"#Other-attempts-for-clustering\">¶</a></h2>\n"
   ]
  },
  {
   "cell_type": "markdown",
   "metadata": {},
   "source": [
    "\n",
    "<h3 id=\"Examine-co-occurrences-of-tags\">Examine co-occurrences of tags<a class=\"anchor-link\" href=\"#Examine-co-occurrences-of-tags\">¶</a></h3>\n"
   ]
  },
  {
   "cell_type": "code",
   "execution_count": null,
   "metadata": {},
   "outputs": [],
   "source": [
    "\n",
    "\n",
    "from collections import defaultdict\n",
    "\n",
    "\n",
    "def find_co_occurring_tags(tag_sets):\n",
    "    co_occurrences = defaultdict(lambda: {'co_occurring_tags': set(), 'co_occurrence_counts': defaultdict(int)})\n",
    "    for tag_set in tag_sets:\n",
    "        for tag in tag_set:\n",
    "            for other_tag in tag_set:\n",
    "                if tag != other_tag:\n",
    "                    co_occurrences[tag]['co_occurring_tags'].add(other_tag)\n",
    "                    co_occurrences[tag]['co_occurrence_counts'][other_tag] += 1\n",
    "\n",
    "      # Remove tags that don't co-occur with any other tag\n",
    "    for tag, co_occurring_info in co_occurrences.items():\n",
    "        if not co_occurring_info['co_occurring_tags']:\n",
    "            del co_occurrences[tag]\n",
    "    return co_occurrences\n",
    "\n",
    "# Example usage\n",
    "vals = list(labeled_songs_dict.values()) #list of sets\n",
    "tag_sets = list()\n",
    "for s in vals: #for each set in the list\n",
    "    new_set = set()\n",
    "    for tup in s: #for each tuple (tag, weight) in the set\n",
    "        new_set.add(tup[0])\n",
    "    tag_sets.append(new_set)\n",
    "    \n",
    "    \n",
    "co_occurrences = find_co_occurring_tags(tag_sets)\n",
    "\n",
    "# Print the co-occurring tags\n",
    "for tag, co_occurring_tags in co_occurrences.items():\n",
    "    print(f\"Tag: {tag}, Co-occurring tags: {co_occurring_tags['co_occurrence_counts']}\\n\")\n",
    "\n",
    "\n"
   ]
  },
  {
   "cell_type": "code",
   "execution_count": null,
   "metadata": {},
   "outputs": [],
   "source": [
    "\n",
    "\n",
    "from apriori_python import apriori \n",
    "\n",
    "freqItemSet, rules = apriori(tag_sets, minSup=0.1, minConf=0.1)\n",
    "\n",
    "\n"
   ]
  },
  {
   "cell_type": "code",
   "execution_count": null,
   "metadata": {},
   "outputs": [],
   "source": [
    "\n",
    "\n",
    "freqItemSet\n",
    "\n",
    "\n"
   ]
  }
 ],
 "metadata": {
  "kernelspec": {
   "display_name": "Python 3 (ipykernel)",
   "language": "python",
   "name": "python3"
  },
  "language_info": {
   "codemirror_mode": {
    "name": "ipython",
    "version": 3
   },
   "file_extension": ".py",
   "mimetype": "text/x-python",
   "name": "python",
   "nbconvert_exporter": "python",
   "pygments_lexer": "ipython3",
   "version": "3.10.14"
  }
 },
 "nbformat": 4,
 "nbformat_minor": 1
}
